{
 "cells": [
  {
   "cell_type": "markdown",
   "metadata": {},
   "source": [
    "1. **Подготовка**"
   ]
  },
  {
   "cell_type": "code",
   "execution_count": 9,
   "metadata": {},
   "outputs": [
    {
     "name": "stdout",
     "output_type": "stream",
     "text": [
      "Пропущенные значения после заполнения: 0\n",
      "MAE: 1.0554\n",
      "MAPE: 0.1547 или 15.47%\n",
      "\n",
      "4.7 MAPE: 0.1547\n"
     ]
    }
   ],
   "source": [
    "import pandas as pd\n",
    "import numpy as np\n",
    "from sklearn.model_selection import train_test_split\n",
    "from sklearn.ensemble import RandomForestRegressor\n",
    "from sklearn.metrics import mean_absolute_error, mean_absolute_percentage_error\n",
    "from sklearn import metrics\n",
    "from sklearn.linear_model import LinearRegression\n",
    "import matplotlib.pyplot as plt\n",
    "import seaborn as sns\n",
    "\n",
    "# Загрузка данных\n",
    "hotels = pd.read_csv('data/hotels.csv')\n",
    "\n",
    "# Маленькая выборка для быстрого расчета\n",
    "small_sample = hotels.sample(10000, random_state=42)\n",
    "\n",
    "# Выбираем только числовые столбцы и удаляем целевую переменную\n",
    "X_small = small_sample.select_dtypes(include=['number']).drop('reviewer_score', axis=1, errors='ignore')\n",
    "y_small = small_sample['reviewer_score']\n",
    "\n",
    "# Заполняем пропущенные значения\n",
    "X_small = X_small.fillna(X_small.mean())\n",
    "\n",
    "# Проверяем, что нет пропусков\n",
    "print(\"Пропущенные значения после заполнения:\", X_small.isnull().sum().sum())\n",
    "\n",
    "X_train, X_test, y_train, y_test = train_test_split(X_small, y_small, test_size=0.25, random_state=42)\n",
    "\n",
    "model = LinearRegression()\n",
    "model.fit(X_train, y_train)\n",
    "y_pred = model.predict(X_test)\n",
    "\n",
    "# ✅ Теперь функции импортированы правильно\n",
    "mae = mean_absolute_error(y_test, y_pred)\n",
    "mape = mean_absolute_percentage_error(y_test, y_pred)\n",
    "\n",
    "print(f\"MAE: {mae:.4f}\")\n",
    "print(f\"MAPE: {mape:.4f} или {mape*100:.2f}%\")\n",
    "\n",
    "# Ответ для задания 4.7\n",
    "print(f\"\\n4.7 MAPE: {mape:.4f}\")"
   ]
  },
  {
   "cell_type": "markdown",
   "metadata": {},
   "source": [
    "2. **Извлечение информации из строковых данных**"
   ]
  },
  {
   "cell_type": "code",
   "execution_count": 11,
   "metadata": {},
   "outputs": [],
   "source": [
    "# Создаем копию для преобразований\n",
    "X = hotels.drop(['reviewer_score'], axis=1).copy()\n",
    "\n",
    "# 1.1 Извлекаем информацию из адреса (страна, город)\n",
    "def extract_country(address):\n",
    "    if 'United Kingdom' in address: return 'UK'\n",
    "    elif 'France' in address: return 'France'\n",
    "    elif 'Netherlands' in address: return 'Netherlands'\n",
    "    elif 'Spain' in address: return 'Spain'\n",
    "    elif 'Italy' in address: return 'Italy'\n",
    "    elif 'Austria' in address: return 'Austria'\n",
    "    else: return 'Other'\n",
    "\n",
    "def extract_city(address):\n",
    "    if 'London' in address: return 'London'\n",
    "    elif 'Paris' in address: return 'Paris'\n",
    "    elif 'Amsterdam' in address: return 'Amsterdam'\n",
    "    elif 'Barcelona' in address: return 'Barcelona'\n",
    "    elif 'Milan' in address: return 'Milan'\n",
    "    elif 'Vienna' in address: return 'Vienna'\n",
    "    else: return 'Other'\n",
    "\n",
    "X['country'] = X['hotel_address'].apply(extract_country)\n",
    "X['city'] = X['hotel_address'].apply(extract_city)\n",
    "\n",
    "# 1.2 Извлекаем информацию из даты\n",
    "X['review_date'] = pd.to_datetime(X['review_date'])\n",
    "X['review_year'] = X['review_date'].dt.year\n",
    "X['review_month'] = X['review_date'].dt.month\n",
    "X['review_day'] = X['review_date'].dt.day\n",
    "X['review_dayofweek'] = X['review_date'].dt.dayofweek\n",
    "\n",
    "# 1.3 Извлекаем информацию из национальности рецензента\n",
    "X['reviewer_nationality'] = X['reviewer_nationality'].str.strip()\n",
    "\n",
    "# Исправленная версия - безопасное извлечение страны из национальности\n",
    "def get_country_from_nationality(nationality):\n",
    "    if pd.isna(nationality) or nationality == '':\n",
    "        return 'Unknown'\n",
    "    try:\n",
    "        # Берем последнее слово (обычно это страна)\n",
    "        return nationality.split()[-1]\n",
    "    except:\n",
    "        return 'Unknown'\n",
    "\n",
    "X['reviewer_country'] = X['reviewer_nationality'].apply(get_country_from_nationality)\n",
    "X['is_uk_reviewer'] = (X['reviewer_country'] == 'Kingdom').astype(int)  # United Kingdom -> Kingdom\n",
    "X['is_local'] = (X['country'] == X['reviewer_country']).astype(int)\n",
    "\n",
    "# 1.4 Анализ тегов (исправленная версия)\n",
    "def extract_tag_info(tags):\n",
    "    if pd.isna(tags) or tags == '':\n",
    "        return 0, 0\n",
    "    try:\n",
    "        tags_str = str(tags).lower()\n",
    "        leisure = 1 if any(x in tags_str for x in ['leisure', 'vacation', 'holiday']) else 0\n",
    "        business = 1 if any(x in tags_str for x in ['business', 'work', 'conference']) else 0\n",
    "        return leisure, business\n",
    "    except:\n",
    "        return 0, 0\n",
    "\n",
    "X['leisure_trip'] = X['tags'].apply(lambda x: extract_tag_info(x)[0])\n",
    "X['business_trip'] = X['tags'].apply(lambda x: extract_tag_info(x)[1])"
   ]
  },
  {
   "cell_type": "markdown",
   "metadata": {},
   "source": [
    "3. **Обработка пропущенных значений**"
   ]
  },
  {
   "cell_type": "code",
   "execution_count": 12,
   "metadata": {},
   "outputs": [],
   "source": [
    "# 2.1 Заполняем географические координаты средними по городу\n",
    "for col in ['lat', 'lng']:\n",
    "    city_means = X.groupby('city')[col].transform('mean')\n",
    "    X[col] = X[col].fillna(city_means)\n",
    "    \n",
    "# 2.2 Заполняем оставшиеся пропуски\n",
    "numeric_cols = X.select_dtypes(include=['int64', 'float64']).columns\n",
    "for col in numeric_cols:\n",
    "    if X[col].isnull().sum() > 0:\n",
    "        X[col] = X[col].fillna(X[col].median())\n",
    "\n",
    "# 2.3 Для категориальных признаков\n",
    "categorical_cols = X.select_dtypes(include=['object']).columns\n",
    "for col in categorical_cols:\n",
    "    X[col] = X[col].fillna('Unknown')"
   ]
  },
  {
   "cell_type": "markdown",
   "metadata": {},
   "source": [
    "4. **Кодирование категориальных признаков**"
   ]
  },
  {
   "cell_type": "code",
   "execution_count": 13,
   "metadata": {},
   "outputs": [],
   "source": [
    "from sklearn.preprocessing import LabelEncoder\n",
    "\n",
    "# 3.1 Кодируем категориальные признаки\n",
    "label_encoders = {}\n",
    "categorical_to_encode = ['country', 'city', 'reviewer_nationality']\n",
    "\n",
    "for col in categorical_to_encode:\n",
    "    le = LabelEncoder()\n",
    "    X[col] = le.fit_transform(X[col].astype(str))\n",
    "    label_encoders[col] = le\n",
    "\n",
    "# 3.2 Удаляем исходные текстовые столбцы\n",
    "text_columns_to_drop = ['hotel_address', 'hotel_name', 'negative_review', \n",
    "                       'positive_review', 'tags', 'review_date']\n",
    "X = X.drop(text_columns_to_drop, axis=1)"
   ]
  },
  {
   "cell_type": "markdown",
   "metadata": {},
   "source": [
    "5. **Преобразование признаков**"
   ]
  },
  {
   "cell_type": "code",
   "execution_count": 14,
   "metadata": {},
   "outputs": [],
   "source": [
    "from sklearn.preprocessing import StandardScaler\n",
    "\n",
    "# 4.1 Нормализуем числовые признаки\n",
    "numeric_cols = X.select_dtypes(include=['int64', 'float64']).columns\n",
    "scaler = StandardScaler()\n",
    "X[numeric_cols] = scaler.fit_transform(X[numeric_cols])\n",
    "\n",
    "# 4.2 Логарифмирование для skewed данных\n",
    "skewed_cols = ['review_total_negative_word_counts', 'review_total_positive_word_counts',\n",
    "               'total_number_of_reviews_reviewer_has_given']\n",
    "for col in skewed_cols:\n",
    "    if col in X.columns:\n",
    "        X[col] = np.log1p(X[col])"
   ]
  },
  {
   "cell_type": "markdown",
   "metadata": {},
   "source": [
    "6. **Отбор признаков**"
   ]
  },
  {
   "cell_type": "code",
   "execution_count": 17,
   "metadata": {},
   "outputs": [
    {
     "name": "stdout",
     "output_type": "stream",
     "text": [
      "Важность признаков (ANOVA):\n",
      "                                      feature        score\n",
      "2           review_total_negative_word_counts  3019.067411\n",
      "1                               average_score  1731.272021\n",
      "4           review_total_positive_word_counts  1359.273895\n",
      "8                                leisure_trip   155.902645\n",
      "9                               business_trip   145.528260\n",
      "5  total_number_of_reviews_reviewer_has_given    96.204537\n",
      "3                     total_number_of_reviews    63.522185\n",
      "0                additional_number_of_scoring    49.711411\n",
      "7                                         lng    22.820053\n",
      "6                                         lat    18.739594\n"
     ]
    }
   ],
   "source": [
    "from sklearn.feature_selection import SelectKBest, f_classif, chi2\n",
    "from sklearn.preprocessing import LabelEncoder\n",
    "\n",
    "# 5.1 Подготовка для тестов значимости\n",
    "y_encoded = LabelEncoder().fit_transform(y)\n",
    "\n",
    "# Разделяем на непрерывные и категориальные\n",
    "num_cols = X.select_dtypes(include=['float64', 'int64']).columns.tolist()\n",
    "cat_cols = []  # У нас все закодировано в числа\n",
    "\n",
    "# 5.2 ANOVA для непрерывных признаков\n",
    "selector = SelectKBest(score_func=f_classif, k='all')\n",
    "selector.fit(X[num_cols], y_encoded)\n",
    "\n",
    "feature_scores = pd.DataFrame({\n",
    "    'feature': num_cols,\n",
    "    'score': selector.scores_\n",
    "}).sort_values('score', ascending=False)\n",
    "\n",
    "print(\"Важность признаков (ANOVA):\")\n",
    "print(feature_scores.head(10))\n",
    "\n",
    "# 5.3 Выбираем топ-15 признаков\n",
    "top_features = feature_scores['feature'].head(15).tolist()\n",
    "X_selected = X[top_features]"
   ]
  },
  {
   "cell_type": "markdown",
   "metadata": {},
   "source": [
    "7. **Обучение и оценка улучшенной модели**"
   ]
  },
  {
   "cell_type": "code",
   "execution_count": 18,
   "metadata": {},
   "outputs": [
    {
     "name": "stdout",
     "output_type": "stream",
     "text": [
      "Базовый вариант - MAE: 0.9857, R2: 0.3421\n",
      "\n",
      "=== РЕЗУЛЬТАТЫ ===\n",
      "Базовый вариант - MAE: 0.9857, R2: 0.3421\n",
      "Улучшенный вариант - MAE: 0.9776, R2: 0.3539\n",
      "Улучшение MAE: 0.0081\n",
      "Улучшение R2: 0.0118\n",
      "\n",
      "Важность признаков в модели:\n",
      "                                      feature  importance\n",
      "0           review_total_negative_word_counts    0.322501\n",
      "2           review_total_positive_word_counts    0.193259\n",
      "1                               average_score    0.097875\n",
      "5  total_number_of_reviews_reviewer_has_given    0.097549\n",
      "9                                         lat    0.071223\n",
      "8                                         lng    0.070968\n",
      "6                     total_number_of_reviews    0.064501\n",
      "7                additional_number_of_scoring    0.061737\n",
      "3                                leisure_trip    0.010834\n",
      "4                               business_trip    0.009552\n"
     ]
    }
   ],
   "source": [
    "# Сначала вычисляем базовые метрики\n",
    "from sklearn.metrics import mean_absolute_error, r2_score\n",
    "\n",
    "# Базовый вариант (только числовые признаки без обработки)\n",
    "X_base = hotels.select_dtypes(include=['number']).drop('reviewer_score', axis=1, errors='ignore')\n",
    "X_base = X_base.fillna(X_base.mean())\n",
    "y = hotels['reviewer_score']\n",
    "\n",
    "X_train_base, X_test_base, y_train_base, y_test_base = train_test_split(X_base, y, test_size=0.25, random_state=42)\n",
    "\n",
    "regr_base = RandomForestRegressor(n_estimators=50, random_state=42, n_jobs=-1)  # меньше деревьев для скорости\n",
    "regr_base.fit(X_train_base, y_train_base)\n",
    "y_pred_base = regr_base.predict(X_test_base)\n",
    "\n",
    "mape_base = mean_absolute_error(y_test_base, y_pred_base)\n",
    "r2_base = r2_score(y_test_base, y_pred_base)\n",
    "\n",
    "print(f'Базовый вариант - MAE: {mape_base:.4f}, R2: {r2_base:.4f}')\n",
    "\n",
    "# Теперь улучшенная модель\n",
    "X_selected = X[top_features].fillna(X[top_features].mean())  #确保没有 пропусков\n",
    "\n",
    "X_train, X_test, y_train, y_test = train_test_split(X_selected, y, test_size=0.25, random_state=42)\n",
    "\n",
    "regr_improved = RandomForestRegressor(n_estimators=50, random_state=42, n_jobs=-1)\n",
    "regr_improved.fit(X_train, y_train)\n",
    "y_pred_improved = regr_improved.predict(X_test)\n",
    "\n",
    "mape_improved = mean_absolute_error(y_test, y_pred_improved)\n",
    "r2_improved = r2_score(y_test, y_pred_improved)\n",
    "\n",
    "print(f'\\n=== РЕЗУЛЬТАТЫ ===')\n",
    "print(f'Базовый вариант - MAE: {mape_base:.4f}, R2: {r2_base:.4f}')\n",
    "print(f'Улучшенный вариант - MAE: {mape_improved:.4f}, R2: {r2_improved:.4f}')\n",
    "print(f'Улучшение MAE: {(mape_base - mape_improved):.4f}')\n",
    "print(f'Улучшение R2: {(r2_improved - r2_base):.4f}')\n",
    "\n",
    "# Важность признаков\n",
    "feature_importance = pd.DataFrame({\n",
    "    'feature': top_features,\n",
    "    'importance': regr_improved.feature_importances_\n",
    "}).sort_values('importance', ascending=False)\n",
    "\n",
    "print(\"\\nВажность признаков в модели:\")\n",
    "print(feature_importance)"
   ]
  },
  {
   "cell_type": "markdown",
   "metadata": {},
   "source": [
    "8. **Вычисление MAPE для улучшенной модели**"
   ]
  },
  {
   "cell_type": "code",
   "execution_count": 22,
   "metadata": {},
   "outputs": [
    {
     "name": "stdout",
     "output_type": "stream",
     "text": [
      "\n",
      "=== РЕЗУЛЬТАТЫ MAPE ===\n",
      "Базовый вариант - MAPE: 0.1419\n",
      "Улучшенный вариант - MAPE: 0.1407\n",
      "Улучшение MAPE: 0.0012\n",
      "Процентное улучшение: 0.84%\n"
     ]
    }
   ],
   "source": [
    "# После вашего существующего кода добавьте:\n",
    "\n",
    "from sklearn.metrics import mean_absolute_percentage_error\n",
    "\n",
    "# MAPE для базовой модели\n",
    "mape_base = mean_absolute_percentage_error(y_test_base, y_pred_base)\n",
    "\n",
    "# MAPE для улучшенной модели  \n",
    "mape_improved = mean_absolute_percentage_error(y_test, y_pred_improved)\n",
    "\n",
    "print(f'\\n=== РЕЗУЛЬТАТЫ MAPE ===')\n",
    "print(f'Базовый вариант - MAPE: {mape_base:.4f}')\n",
    "print(f'Улучшенный вариант - MAPE: {mape_improved:.4f}')\n",
    "print(f'Улучшение MAPE: {(mape_base - mape_improved):.4f}')\n",
    "print(f'Процентное улучшение: {((mape_base - mape_improved)/mape_base*100):.2f}%')"
   ]
  },
  {
   "cell_type": "markdown",
   "metadata": {},
   "source": [
    "9. **Визуализация результатов**"
   ]
  },
  {
   "cell_type": "code",
   "execution_count": 19,
   "metadata": {},
   "outputs": [
    {
     "data": {
      "image/png": "[encoded data removed]",
      "text/plain": [
       "<Figure size 1000x800 with 1 Axes>"
      ]
     },
     "metadata": {},
     "output_type": "display_data"
    },
    {
     "data": {
      "image/png": "[encoded data removed]",
      "text/plain": [
       "<Figure size 1200x500 with 2 Axes>"
      ]
     },
     "metadata": {},
     "output_type": "display_data"
    }
   ],
   "source": [
    "# График важности признаков\n",
    "plt.figure(figsize=(10, 8))\n",
    "plt.barh(feature_importance['feature'][:10], feature_importance['importance'][:10])\n",
    "plt.xlabel('Важность')\n",
    "plt.title('Топ-10 самых важных признаков')\n",
    "plt.gca().invert_yaxis()\n",
    "plt.show()\n",
    "\n",
    "# Сравнение моделей\n",
    "models = ['Базовая', 'Улучшенная']\n",
    "mae_scores = [mape_base, mape_improved]\n",
    "r2_scores = [r2_base, r2_improved]\n",
    "\n",
    "fig, (ax1, ax2) = plt.subplots(1, 2, figsize=(12, 5))\n",
    "ax1.bar(models, mae_scores)\n",
    "ax1.set_title('Сравнение MAE')\n",
    "ax1.set_ylabel('MAE')\n",
    "\n",
    "ax2.bar(models, r2_scores)\n",
    "ax2.set_title('Сравнение R2')\n",
    "ax2.set_ylabel('R2 Score')\n",
    "\n",
    "plt.tight_layout()\n",
    "plt.show()"
   ]
  }
 ],
 "metadata": {
  "kernelspec": {
   "display_name": "Python 3",
   "language": "python",
   "name": "python3"
  },
  "language_info": {
   "codemirror_mode": {
    "name": "ipython",
    "version": 3
   },
   "file_extension": ".py",
   "mimetype": "text/x-python",
   "name": "python",
   "nbconvert_exporter": "python",
   "pygments_lexer": "ipython3",
   "version": "3.8.10"
  }
 },
 "nbformat": 4,
 "nbformat_minor": 2
}
